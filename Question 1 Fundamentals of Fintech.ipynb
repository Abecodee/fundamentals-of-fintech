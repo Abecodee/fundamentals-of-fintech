{
 "cells": [
  {
   "cell_type": "markdown",
   "id": "18fdef6f",
   "metadata": {},
   "source": [
    "# Explore the Bitcoin Blockchain\n",
    "\n",
    "### Extract information from your own transaction"
   ]
  },
  {
   "cell_type": "code",
   "execution_count": null,
   "id": "e81e1baa",
   "metadata": {},
   "outputs": [],
   "source": [
    "import json\n",
    "import requests\n",
    "import datetime"
   ]
  },
  {
   "cell_type": "code",
   "execution_count": 3,
   "id": "20c75fd9",
   "metadata": {},
   "outputs": [
    {
     "name": "stdout",
     "output_type": "stream",
     "text": [
      "Transaction Count: 7187\n",
      "Block Time: 2024-01-11 19:33:43 UTC\n",
      "Total Fees: 0.01112353999999982\n",
      "Confirmations: 504\n",
      "Miner: qdlnk\n"
     ]
    }
   ],
   "source": [
    "from datetime import datetime\n",
    "\n",
    "#Take note of which block your transaction is in by taking its block height\n",
    "\n",
    "blockheight = 826672\n",
    "\n",
    "#Fetch data from whatsonchain API \n",
    "\n",
    "whats_on_chain_API = requests.get(f'https://api.whatsonchain.com/v1/bsv/main/block/height/{blockheight}')\n",
    "\n",
    "#Process the response \n",
    "data = whats_on_chain_API.json()\n",
    "\n",
    "#Process the information and then print the information\n",
    "print(f\"Transaction Count: {data['txcount']}\")\n",
    "print(f\"Block Time: {datetime.utcfromtimestamp(data['time']).strftime('%Y-%m-%d %H:%M:%S')} UTC\")\n",
    "print(f\"Total Fees: {data['totalFees']}\")\n",
    "print(f\"Confirmations: {data['confirmations']}\")\n",
    "print(f\"Miner: {data['miner']}\")"
   ]
  },
  {
   "cell_type": "markdown",
   "id": "8663110d",
   "metadata": {},
   "source": [
    "#### Transaction count - the total number of transactions proceeded and confirmed in the block.\n",
    "#### Block time - The moment the block was added to the blockchain. It is also displayed in a human-readable format to the nearest second\n",
    "#### Total fees: The total number of fees in the block which are collected by the miner. The miners receive these fees as a reward for confirming and processing the transactions\n",
    "#### Confirmations: The number of blocks added to the blockchain after the current one. The higher the number of confirmations the more secure the transaction as it has been embedded in a more secure way in the blockchain meaning it is less likely to be changed. \n",
    "#### Miner: The name of the miner that was able to successfully solve the puzzle. \n",
    "\n",
    "\n"
   ]
  },
  {
   "cell_type": "code",
   "execution_count": null,
   "id": "0a9a6a9c",
   "metadata": {},
   "outputs": [],
   "source": []
  }
 ],
 "metadata": {
  "kernelspec": {
   "display_name": "Python 3 (ipykernel)",
   "language": "python",
   "name": "python3"
  },
  "language_info": {
   "codemirror_mode": {
    "name": "ipython",
    "version": 3
   },
   "file_extension": ".py",
   "mimetype": "text/x-python",
   "name": "python",
   "nbconvert_exporter": "python",
   "pygments_lexer": "ipython3",
   "version": "3.11.5"
  }
 },
 "nbformat": 4,
 "nbformat_minor": 5
}
