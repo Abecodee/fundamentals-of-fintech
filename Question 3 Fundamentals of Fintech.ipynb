{
 "cells": [
  {
   "cell_type": "markdown",
   "metadata": {},
   "source": [
    "# Machine Learning in Practice "
   ]
  },
  {
   "cell_type": "markdown",
   "metadata": {},
   "source": [
    "### 3.1 High level description of FinTech firm\n"
   ]
  },
  {
   "cell_type": "markdown",
   "metadata": {},
   "source": [
    "Sarunas Fintech firm is a small FinTech business that operates in the financial sector and primarily works in facilitating loans via an online platform. This platform makes use of several technologies to efficiently process the loan applications and make informed decisions.\n",
    "\n",
    "###### The four structural parts of the business:\n",
    "\n",
    "Streamlit User interface (UI) : The business makes use of a Streamlit-based US and offers applications a streamlined experience when submitting loan requests. This structural part of the business is important for the initial user engagement where essential financial details and personal details are gathered for loan evaluations.\n",
    "\n",
    "FastAPI for risk modelling: The firm makes use of the FastAPI framework which uses a vigorous credit risk model. This model makes use of logistic regression to analyse loan application data which is collected through the UI. From here the probability of loan repayment is assessed taking note of certain criteria such as income and employment. \n",
    "\n",
    "Data management using Postgres: Utilising a Postgres database system for efficient data storage and retrieval, the business uses this to hold all of the information for the loan applications. THis database is also used to store assessment results.\n",
    "\n",
    "Data Analysis on Juypterlab: By using Juypterlab for complex model refinement and data analytics, Sarunas fintech firm is able to examine collected data. This analysis allows for useful insights on applications and helps in improving the businesses credit risk model.\n",
    "\n",
    "###### How do the structural parts of the business interact?\n",
    "\n",
    "The process begins when users apply for loans using the Streamlit UI. From here, these applications are then processed by the FastAPI risk model by employing logistic regression for applicant risk assessment. The results from here are then stored in the Postgres database for safe-keeping. From here, Juypterlab is used to conduct further data analysis which helps to improve the risk model and decisions made by the business. \n",
    "\n",
    "###### What is logistic regression and why is it a useful machine learning technique?\n",
    "\n",
    "Logistic regression is a  classification technique which works by estimating the likelihood of an input belonging to a particular class. Logistic regression is a linear method, but the predictions are transformed using the logistic function (Brownlee, 2016). It is extremely useful in machine learning as it is able to provide probability estimates of these outcomes therefore providing insight into how likely each group is. This method is unique due to its interpretability as it shows clearly how different predictors change the outcome. It is also effective with small datasets which makes it very versatile and can be used in multiple ways. (Brownlee, 2016)\n",
    "\n",
    "\n"
   ]
  },
  {
   "cell_type": "markdown",
   "metadata": {},
   "source": [
    "\n",
    "\n",
    "\n",
    "\n"
   ]
  },
  {
   "cell_type": "code",
   "execution_count": 96,
   "metadata": {},
   "outputs": [],
   "source": [
    "import pandas as pd\n",
    "import pickle\n",
    "from sklearn.model_selection import train_test_split\n",
    "from sklearn.preprocessing import MinMaxScaler\n",
    "from sklearn.linear_model import LogisticRegression\n",
    "from sklearn.pipeline import Pipeline\n",
    "from sklearn.metrics import roc_auc_score, roc_curve, accuracy_score\n",
    "import matplotlib.pyplot as plt\n",
    "import seaborn as sns\n",
    "sns.set_style('white')\n",
    "import numpy as np"
   ]
  },
  {
   "cell_type": "markdown",
   "metadata": {},
   "source": [
    "**Data Taken From:** https://www.kaggle.com/wordsforthewise/lending-club </br>\n",
    "**Model is From:** https://www.kaggle.com/benesalvatore/predict-default-using-logisitic-regression"
   ]
  },
  {
   "cell_type": "code",
   "execution_count": 97,
   "metadata": {},
   "outputs": [],
   "source": [
    "features = ['loan_amnt', 'annual_inc', 'term', 'emp_length']"
   ]
  },
  {
   "cell_type": "code",
   "execution_count": 98,
   "metadata": {},
   "outputs": [],
   "source": [
    "a = pd.read_csv('accepted_2007_to_2018Q4.csv.gz', usecols=features+['loan_status'])"
   ]
  },
  {
   "cell_type": "code",
   "execution_count": 99,
   "metadata": {},
   "outputs": [],
   "source": [
    "full_set = a.query(\"loan_status in ('Fully Paid', 'Charged Off')\").copy()"
   ]
  },
  {
   "cell_type": "code",
   "execution_count": 100,
   "metadata": {},
   "outputs": [],
   "source": [
    "full_set = full_set.dropna(subset=['emp_length'])"
   ]
  },
  {
   "cell_type": "markdown",
   "metadata": {},
   "source": [
    "# Build the model - Logistic Regression"
   ]
  },
  {
   "cell_type": "markdown",
   "metadata": {},
   "source": [
    "1. Transform our Label *loan_status* and other columns"
   ]
  },
  {
   "cell_type": "code",
   "execution_count": 101,
   "metadata": {},
   "outputs": [],
   "source": [
    "full_set['loan_status'] = full_set['loan_status'].replace(\n",
    "    {\n",
    "        'Fully Paid': 1,\n",
    "        'Charged Off': 0\n",
    "    }\n",
    ")\n",
    "\n",
    "full_set['term'] = full_set['term'].replace(\n",
    "    {\n",
    "        ' 36 months': 36,\n",
    "        ' 60 months': 60\n",
    "    }\n",
    ")"
   ]
  },
  {
   "cell_type": "code",
   "execution_count": 102,
   "metadata": {},
   "outputs": [],
   "source": [
    "full_set['emp_length'] = full_set['emp_length'].map(lambda x: x.split(' ')[0])\n",
    "full_set['emp_length'] = full_set['emp_length'].map(lambda x: str(x).replace('+', '').replace('<', '0'))"
   ]
  },
  {
   "cell_type": "markdown",
   "metadata": {},
   "source": [
    "**Build Model**"
   ]
  },
  {
   "cell_type": "code",
   "execution_count": 103,
   "metadata": {},
   "outputs": [],
   "source": [
    "model_features = list(full_set.columns)\n",
    "model_features.remove('loan_status')"
   ]
  },
  {
   "cell_type": "code",
   "execution_count": 104,
   "metadata": {},
   "outputs": [
    {
     "data": {
      "text/html": [
       "<div>\n",
       "<style scoped>\n",
       "    .dataframe tbody tr th:only-of-type {\n",
       "        vertical-align: middle;\n",
       "    }\n",
       "\n",
       "    .dataframe tbody tr th {\n",
       "        vertical-align: top;\n",
       "    }\n",
       "\n",
       "    .dataframe thead th {\n",
       "        text-align: right;\n",
       "    }\n",
       "</style>\n",
       "<table border=\"1\" class=\"dataframe\">\n",
       "  <thead>\n",
       "    <tr style=\"text-align: right;\">\n",
       "      <th></th>\n",
       "      <th>loan_amnt</th>\n",
       "      <th>term</th>\n",
       "      <th>emp_length</th>\n",
       "      <th>annual_inc</th>\n",
       "      <th>loan_status</th>\n",
       "    </tr>\n",
       "  </thead>\n",
       "  <tbody>\n",
       "    <tr>\n",
       "      <th>0</th>\n",
       "      <td>3600.0</td>\n",
       "      <td>36</td>\n",
       "      <td>10</td>\n",
       "      <td>55000.0</td>\n",
       "      <td>1</td>\n",
       "    </tr>\n",
       "    <tr>\n",
       "      <th>1</th>\n",
       "      <td>24700.0</td>\n",
       "      <td>36</td>\n",
       "      <td>10</td>\n",
       "      <td>65000.0</td>\n",
       "      <td>1</td>\n",
       "    </tr>\n",
       "    <tr>\n",
       "      <th>2</th>\n",
       "      <td>20000.0</td>\n",
       "      <td>60</td>\n",
       "      <td>10</td>\n",
       "      <td>63000.0</td>\n",
       "      <td>1</td>\n",
       "    </tr>\n",
       "    <tr>\n",
       "      <th>4</th>\n",
       "      <td>10400.0</td>\n",
       "      <td>60</td>\n",
       "      <td>3</td>\n",
       "      <td>104433.0</td>\n",
       "      <td>1</td>\n",
       "    </tr>\n",
       "    <tr>\n",
       "      <th>5</th>\n",
       "      <td>11950.0</td>\n",
       "      <td>36</td>\n",
       "      <td>4</td>\n",
       "      <td>34000.0</td>\n",
       "      <td>1</td>\n",
       "    </tr>\n",
       "  </tbody>\n",
       "</table>\n",
       "</div>"
      ],
      "text/plain": [
       "   loan_amnt  term emp_length  annual_inc  loan_status\n",
       "0     3600.0    36         10     55000.0            1\n",
       "1    24700.0    36         10     65000.0            1\n",
       "2    20000.0    60         10     63000.0            1\n",
       "4    10400.0    60          3    104433.0            1\n",
       "5    11950.0    36          4     34000.0            1"
      ]
     },
     "execution_count": 104,
     "metadata": {},
     "output_type": "execute_result"
    }
   ],
   "source": [
    "full_set.head()"
   ]
  },
  {
   "cell_type": "code",
   "execution_count": 105,
   "metadata": {},
   "outputs": [],
   "source": [
    "X_train, X_test, y_train, y_test = train_test_split(\n",
    "    full_set[model_features],\n",
    "    full_set['loan_status'],\n",
    "    random_state=42\n",
    ")"
   ]
  },
  {
   "cell_type": "code",
   "execution_count": 106,
   "metadata": {},
   "outputs": [],
   "source": [
    "model = LogisticRegression()\n",
    "scaler = MinMaxScaler()"
   ]
  },
  {
   "cell_type": "code",
   "execution_count": 107,
   "metadata": {},
   "outputs": [],
   "source": [
    "pipeline = Pipeline([('scaler', scaler), ('model', model)])"
   ]
  },
  {
   "cell_type": "code",
   "execution_count": 108,
   "metadata": {},
   "outputs": [
    {
     "data": {
      "text/html": [
       "<style>#sk-container-id-3 {color: black;}#sk-container-id-3 pre{padding: 0;}#sk-container-id-3 div.sk-toggleable {background-color: white;}#sk-container-id-3 label.sk-toggleable__label {cursor: pointer;display: block;width: 100%;margin-bottom: 0;padding: 0.3em;box-sizing: border-box;text-align: center;}#sk-container-id-3 label.sk-toggleable__label-arrow:before {content: \"▸\";float: left;margin-right: 0.25em;color: #696969;}#sk-container-id-3 label.sk-toggleable__label-arrow:hover:before {color: black;}#sk-container-id-3 div.sk-estimator:hover label.sk-toggleable__label-arrow:before {color: black;}#sk-container-id-3 div.sk-toggleable__content {max-height: 0;max-width: 0;overflow: hidden;text-align: left;background-color: #f0f8ff;}#sk-container-id-3 div.sk-toggleable__content pre {margin: 0.2em;color: black;border-radius: 0.25em;background-color: #f0f8ff;}#sk-container-id-3 input.sk-toggleable__control:checked~div.sk-toggleable__content {max-height: 200px;max-width: 100%;overflow: auto;}#sk-container-id-3 input.sk-toggleable__control:checked~label.sk-toggleable__label-arrow:before {content: \"▾\";}#sk-container-id-3 div.sk-estimator input.sk-toggleable__control:checked~label.sk-toggleable__label {background-color: #d4ebff;}#sk-container-id-3 div.sk-label input.sk-toggleable__control:checked~label.sk-toggleable__label {background-color: #d4ebff;}#sk-container-id-3 input.sk-hidden--visually {border: 0;clip: rect(1px 1px 1px 1px);clip: rect(1px, 1px, 1px, 1px);height: 1px;margin: -1px;overflow: hidden;padding: 0;position: absolute;width: 1px;}#sk-container-id-3 div.sk-estimator {font-family: monospace;background-color: #f0f8ff;border: 1px dotted black;border-radius: 0.25em;box-sizing: border-box;margin-bottom: 0.5em;}#sk-container-id-3 div.sk-estimator:hover {background-color: #d4ebff;}#sk-container-id-3 div.sk-parallel-item::after {content: \"\";width: 100%;border-bottom: 1px solid gray;flex-grow: 1;}#sk-container-id-3 div.sk-label:hover label.sk-toggleable__label {background-color: #d4ebff;}#sk-container-id-3 div.sk-serial::before {content: \"\";position: absolute;border-left: 1px solid gray;box-sizing: border-box;top: 0;bottom: 0;left: 50%;z-index: 0;}#sk-container-id-3 div.sk-serial {display: flex;flex-direction: column;align-items: center;background-color: white;padding-right: 0.2em;padding-left: 0.2em;position: relative;}#sk-container-id-3 div.sk-item {position: relative;z-index: 1;}#sk-container-id-3 div.sk-parallel {display: flex;align-items: stretch;justify-content: center;background-color: white;position: relative;}#sk-container-id-3 div.sk-item::before, #sk-container-id-3 div.sk-parallel-item::before {content: \"\";position: absolute;border-left: 1px solid gray;box-sizing: border-box;top: 0;bottom: 0;left: 50%;z-index: -1;}#sk-container-id-3 div.sk-parallel-item {display: flex;flex-direction: column;z-index: 1;position: relative;background-color: white;}#sk-container-id-3 div.sk-parallel-item:first-child::after {align-self: flex-end;width: 50%;}#sk-container-id-3 div.sk-parallel-item:last-child::after {align-self: flex-start;width: 50%;}#sk-container-id-3 div.sk-parallel-item:only-child::after {width: 0;}#sk-container-id-3 div.sk-dashed-wrapped {border: 1px dashed gray;margin: 0 0.4em 0.5em 0.4em;box-sizing: border-box;padding-bottom: 0.4em;background-color: white;}#sk-container-id-3 div.sk-label label {font-family: monospace;font-weight: bold;display: inline-block;line-height: 1.2em;}#sk-container-id-3 div.sk-label-container {text-align: center;}#sk-container-id-3 div.sk-container {/* jupyter's `normalize.less` sets `[hidden] { display: none; }` but bootstrap.min.css set `[hidden] { display: none !important; }` so we also need the `!important` here to be able to override the default hidden behavior on the sphinx rendered scikit-learn.org. See: https://github.com/scikit-learn/scikit-learn/issues/21755 */display: inline-block !important;position: relative;}#sk-container-id-3 div.sk-text-repr-fallback {display: none;}</style><div id=\"sk-container-id-3\" class=\"sk-top-container\"><div class=\"sk-text-repr-fallback\"><pre>Pipeline(steps=[(&#x27;scaler&#x27;, MinMaxScaler()), (&#x27;model&#x27;, LogisticRegression())])</pre><b>In a Jupyter environment, please rerun this cell to show the HTML representation or trust the notebook. <br />On GitHub, the HTML representation is unable to render, please try loading this page with nbviewer.org.</b></div><div class=\"sk-container\" hidden><div class=\"sk-item sk-dashed-wrapped\"><div class=\"sk-label-container\"><div class=\"sk-label sk-toggleable\"><input class=\"sk-toggleable__control sk-hidden--visually\" id=\"sk-estimator-id-7\" type=\"checkbox\" ><label for=\"sk-estimator-id-7\" class=\"sk-toggleable__label sk-toggleable__label-arrow\">Pipeline</label><div class=\"sk-toggleable__content\"><pre>Pipeline(steps=[(&#x27;scaler&#x27;, MinMaxScaler()), (&#x27;model&#x27;, LogisticRegression())])</pre></div></div></div><div class=\"sk-serial\"><div class=\"sk-item\"><div class=\"sk-estimator sk-toggleable\"><input class=\"sk-toggleable__control sk-hidden--visually\" id=\"sk-estimator-id-8\" type=\"checkbox\" ><label for=\"sk-estimator-id-8\" class=\"sk-toggleable__label sk-toggleable__label-arrow\">MinMaxScaler</label><div class=\"sk-toggleable__content\"><pre>MinMaxScaler()</pre></div></div></div><div class=\"sk-item\"><div class=\"sk-estimator sk-toggleable\"><input class=\"sk-toggleable__control sk-hidden--visually\" id=\"sk-estimator-id-9\" type=\"checkbox\" ><label for=\"sk-estimator-id-9\" class=\"sk-toggleable__label sk-toggleable__label-arrow\">LogisticRegression</label><div class=\"sk-toggleable__content\"><pre>LogisticRegression()</pre></div></div></div></div></div></div></div>"
      ],
      "text/plain": [
       "Pipeline(steps=[('scaler', MinMaxScaler()), ('model', LogisticRegression())])"
      ]
     },
     "execution_count": 108,
     "metadata": {},
     "output_type": "execute_result"
    }
   ],
   "source": [
    "pipeline.fit(X_train, y_train)"
   ]
  },
  {
   "cell_type": "markdown",
   "metadata": {},
   "source": [
    "**Test Model**"
   ]
  },
  {
   "cell_type": "code",
   "execution_count": 109,
   "metadata": {},
   "outputs": [
    {
     "name": "stdout",
     "output_type": "stream",
     "text": [
      "ROC-AUC-score:  0.634209472479741\n"
     ]
    },
    {
     "data": {
      "image/png": "[encoded data removed]",
      "text/plain": [
       "<Figure size 640x480 with 1 Axes>"
      ]
     },
     "metadata": {},
     "output_type": "display_data"
    }
   ],
   "source": [
    "test_probas = pipeline.predict_proba(X_test)[:,1]\n",
    "\n",
    "fpr, tpr, tresholds = roc_curve(y_test, test_probas)\n",
    "plt.plot(fpr, tpr, color='red')\n",
    "plt.title('ROC')\n",
    "plt.xlabel('FPR')\n",
    "plt.ylabel('TPR')\n",
    "plt.grid()\n",
    "\n",
    "print('ROC-AUC-score: ', roc_auc_score(y_test, test_probas))"
   ]
  },
  {
   "cell_type": "code",
   "execution_count": 110,
   "metadata": {},
   "outputs": [],
   "source": [
    "def _compute_accuracy_for_thresholds(data: pd.core.frame.DataFrame):\n",
    "    \"\"\"\n",
    "    Compute Classifier's Accuracy for various thresholds\n",
    "    \"\"\"\n",
    "    \n",
    "    thresholds = np.linspace(0, 1, 100)\n",
    "    \n",
    "    accuracies = []\n",
    "    \n",
    "    for threshold in thresholds:\n",
    "        preds = data['preds'].map(lambda x: 1 if x > threshold else 0)\n",
    "        accuracy_ = accuracy_score(data['labels'].values, preds)\n",
    "        accuracies.append(accuracy_)\n",
    "    \n",
    "    return accuracies, thresholds"
   ]
  },
  {
   "cell_type": "code",
   "execution_count": 111,
   "metadata": {},
   "outputs": [],
   "source": [
    "X_test['preds'] = test_probas\n",
    "X_test['labels'] = y_test"
   ]
  },
  {
   "cell_type": "code",
   "execution_count": 112,
   "metadata": {},
   "outputs": [],
   "source": [
    "accuracies, thresholds = _compute_accuracy_for_thresholds(X_test)"
   ]
  },
  {
   "cell_type": "code",
   "execution_count": 113,
   "metadata": {},
   "outputs": [
    {
     "data": {
      "image/png": "[encoded data removed]",
      "text/plain": [
       "<Figure size 640x480 with 1 Axes>"
      ]
     },
     "metadata": {},
     "output_type": "display_data"
    }
   ],
   "source": [
    "plt.plot(thresholds.reshape(-1, 1), accuracies, label='Thresholds')\n",
    "plt.axhline(\n",
    "    (X_test['labels'].sum()) / len(X_test), color='red', label='No Model Accuracy')\n",
    "plt.grid()\n",
    "plt.title('Accuracy for various Thresholds')\n",
    "plt.xlabel('Threshold')\n",
    "plt.ylabel('Accuracy of Predictions')\n",
    "plt.legend()\n",
    "plt.show()"
   ]
  },
  {
   "cell_type": "code",
   "execution_count": 114,
   "metadata": {},
   "outputs": [
    {
     "data": {
      "text/plain": [
       "0.7393148089674771"
      ]
     },
     "execution_count": 114,
     "metadata": {},
     "output_type": "execute_result"
    }
   ],
   "source": [
    "accuracy_score(X_test['labels'].values, list(map(lambda x: 1 if x > 0.7 else 0, X_test['preds'])))"
   ]
  },
  {
   "cell_type": "markdown",
   "metadata": {},
   "source": [
    "### 3.2 Written description of Python Code \n",
    "\n"
   ]
  },
  {
   "cell_type": "markdown",
   "metadata": {},
   "source": [
    "###### Line 1: a = pd.read_csv('accepted_2007_to_2018Q4.csv.gz', usecols=features+['loan_status'])\n",
    "This line reads a compressed CSV file into a pandas DataFrame.\n",
    "\n",
    "###### Line 2: full_set = a.query(\"loan_status in ('Fully Paid', 'Charged Off')\").copy()\n",
    "This line is used to filter the DataFrame to include rows where the status of the loan is either 'Fully paid' or 'charged off'. After this it creates a copy of the filtered dataframe. \n",
    "\n",
    "###### Line 3: full_set['loan_status'] = full_set['loan_status'].replace({'Fully Paid': 1, 'Charged Off': 0})\n",
    "In this line, the 'loan_status' columns format is changed into binary format. 'Fully paid' is replaced by 1 and 'charged off' is replaced by a 0\n",
    "\n",
    "###### Line 4: X_train, X_test, y_train, y_test = train_test_split(full_set[model_features], full_set['loan_status'], random_state=42)\n",
    "This line is used to split the dataset into testing sets and training sets. 'model features' acts as the predictors and 'loan status' as the response variable. 'random state' is used for reproducibility\n",
    "\n",
    "###### Line 5: model = LogisticRegression()\n",
    "This line of code represents a logistic regression model.\n",
    "\n",
    "###### Line 6: pipeline = Pipeline([('scaler', scaler), ('model', model)])\n",
    "This code creates a pipeline which scales the data by using a minmaxscaler. From here it then applies the logistic regression model.\n",
    "\n",
    "###### Line 7: pipeline.fit(X_train, y_train)\n",
    "This line trains the pipeline using the trraining data. The scaler normalises the features and the logisitic regression model is then used to predict the loan status\n",
    "\n",
    "###### Line 8: fpr, tpr, thresholds = roc_curve(y_test, test_probas)\n",
    "This line is used to calculate the false positive rate (fpr) true positive rate (tpr) and the threshold for the roc curve\n",
    "\n",
    "###### Line 9: plt.plot(fpr, tpr, color='red')\n",
    "This code is used to generate a plot of the ROC curve by using the false positive rate and true positive rate values. 'color=red' makes sure the curve is coloured red\n",
    "\n",
    "###### Line 10: plt.show()\n",
    "This code shows the plot that has been created and can be used to test all the previous commands. "
   ]
  },
  {
   "cell_type": "markdown",
   "metadata": {},
   "source": [
    "\n",
    "\n",
    "\n",
    "\n",
    "\n",
    "\n"
   ]
  },
  {
   "cell_type": "markdown",
   "metadata": {},
   "source": [
    "### 3.3 Build your own machine learning model"
   ]
  },
  {
   "cell_type": "markdown",
   "metadata": {},
   "source": [
    "\n",
    "This code uses linear regression to look at historical closing prices of Amazons stock and attempt to predict the closing price for the next week."
   ]
  },
  {
   "cell_type": "code",
   "execution_count": 123,
   "metadata": {},
   "outputs": [
    {
     "name": "stdout",
     "output_type": "stream",
     "text": [
      "Next weeks predicted closing price: 104.87655856412881\n",
      "Next weeks actual closing price: 106.959999\n"
     ]
    },
    {
     "name": "stderr",
     "output_type": "stream",
     "text": [
      "C:\\Users\\phili\\anaconda3\\Lib\\site-packages\\sklearn\\base.py:464: UserWarning: X does not have valid feature names, but LinearRegression was fitted with feature names\n",
      "  warnings.warn(\n"
     ]
    },
    {
     "data": {
      "text/plain": [
       "[<matplotlib.lines.Line2D at 0x1ee3e647550>]"
      ]
     },
     "execution_count": 123,
     "metadata": {},
     "output_type": "execute_result"
    },
    {
     "data": {
      "image/png": "[encoded data removed]",
      "text/plain": [
       "<Figure size 640x480 with 1 Axes>"
      ]
     },
     "metadata": {},
     "output_type": "display_data"
    }
   ],
   "source": [
    "\n",
    "#load amazon historical dataset\n",
    "historical_prices = pd.read_csv('AMZN.csv')\n",
    "\n",
    "#adjust the dataset to use closing prices of stock \n",
    "X = historical_prices[['Close']].shift(-1)  \n",
    "y = historical_prices['Close']\n",
    "X.dropna(inplace=True)  \n",
    "y = y.iloc[:-1]         \n",
    "\n",
    "#split data into training and testing sets\n",
    "X_train, X_test, y_train, y_test = train_test_split(X, y, test_size=0.2, random_state=42)\n",
    "\n",
    "#create and train the linear regression model\n",
    "amazon_model = LinearRegression()\n",
    "amazon_model.fit(X_train, y_train)\n",
    "\n",
    "#predict  next weeks closing price using the last data point \n",
    "last_week_price = X_test.iloc[-1].values.reshape(-1, 1)\n",
    "predicted_price = model.predict(last_week_price)\n",
    "\n",
    "actual_price = y_test.iloc[-1]\n",
    "print(f\"Next weeks predicted closing price: {predicted_price[0]}\")\n",
    "print(f\"Next weeks actual closing price: {actual_price}\")\n",
    "\n",
    "plt.plot(X, y) #graph looked interesting but does not show anything valuable"
   ]
  },
  {
   "cell_type": "markdown",
   "metadata": {},
   "source": [
    "Interpretation: The model predicts a closing price of 104.88 usd for next week, while the actual closing price is 106.96 usd , indicating a slightly underestimated prediction by the model"
   ]
  },
  {
   "cell_type": "markdown",
   "metadata": {},
   "source": [
    "\n",
    "\n",
    "\n"
   ]
  },
  {
   "cell_type": "markdown",
   "metadata": {},
   "source": [
    "# References\n",
    "\n",
    "Brownlee, J. (2016, September 22). Logistic Regression for Machine Learning. Machine Learning Mastery. https://machinelearningmastery.com/logistic-regression-for-machine-learning/"
   ]
  }
 ],
 "metadata": {
  "kernelspec": {
   "display_name": "Python 3 (ipykernel)",
   "language": "python",
   "name": "python3"
  },
  "language_info": {
   "codemirror_mode": {
    "name": "ipython",
    "version": 3
   },
   "file_extension": ".py",
   "mimetype": "text/x-python",
   "name": "python",
   "nbconvert_exporter": "python",
   "pygments_lexer": "ipython3",
   "version": "3.11.5"
  }
 },
 "nbformat": 4,
 "nbformat_minor": 4
}
